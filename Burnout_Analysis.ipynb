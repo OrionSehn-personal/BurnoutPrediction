{
 "cells": [
  {
   "cell_type": "code",
   "execution_count": 208,
   "metadata": {},
   "outputs": [],
   "source": [
    "import matplotlib.pyplot as plt\n",
    "import numpy as np\n",
    "import pandas as pd"
   ]
  },
  {
   "attachments": {},
   "cell_type": "markdown",
   "metadata": {},
   "source": [
    "### Read in Data"
   ]
  },
  {
   "cell_type": "code",
   "execution_count": 209,
   "metadata": {},
   "outputs": [
    {
     "name": "stdout",
     "output_type": "stream",
     "text": [
      "\\begin{tabular}{lllrrr}\n",
      "\\toprule\n",
      "Variable Name &                                     Variable Label &                                     Variable Scale &  Unnamed: 3 &  Unnamed: 4 &  Unnamed: 5 \\\\\n",
      "\\midrule\n",
      "           id &                             Participants ID number &                                             string &         NaN &         NaN &         NaN \\\\\n",
      "          age &                         age at questionnaire 20-21 &                                            numeric &         NaN &         NaN &         NaN \\\\\n",
      "         year & CURICULUM YEAR : In which curriculum year are you? & 1=Bmed1; 2=Bmed2; 3=Bmed3; 4=Mmed1; 5=Mmed2; 6=... &         NaN &         NaN &         NaN \\\\\n",
      "          sex & GENDER : To which gender do you identify the mo... &                       1=Man; 2=Woman; 3=Non-binary &         NaN &         NaN &         NaN \\\\\n",
      "        glang &         MOTHER TONGUE: What is your mother tongue? & 1=French; 15=German; 20=English; 37=Arab; 51=Ba... &         NaN &         NaN &         NaN \\\\\n",
      "         part &        PARTNERSHIP STATUS : Do you have a partner? &                                        0=No; 1=Yes &         NaN &         NaN &         NaN \\\\\n",
      "          job &             HAVING A JOB : Do you have a paid job? &                                        0=No; 1=Yes &         NaN &         NaN &         NaN \\\\\n",
      "       stud\\_h & HOURS OF STUDY PER WEEK : On average, how many ... &                                                NaN &         NaN &         NaN &         NaN \\\\\n",
      "       health & SATISFACTION WITH HEALTH : How satisfied are yo... & 1=Verydissatisfied; 2=Dissatisfied; 3=Neithersa... &         NaN &         NaN &         NaN \\\\\n",
      "         psyt & PSYCHOTHERAPY LAST YEAR : During the last 12 mo... &                                        0=No; 1=Yes &         NaN &         NaN &         NaN \\\\\n",
      "         jspe &                           JSPE total empathy score &                                            numeric &         NaN &         NaN &         NaN \\\\\n",
      "     qcae\\_cog &                       QCAE Cognitive empathy score &                                            numeric &         NaN &         NaN &         NaN \\\\\n",
      "     qcae\\_aff &                       QCAE Affective empathy score &                                            numeric &         NaN &         NaN &         NaN \\\\\n",
      "         amsp &                                   AMSP total score &                                            numeric &         NaN &         NaN &         NaN \\\\\n",
      "    erec\\_mean &             GERT : mean value of correct responses &                                            numeric &         NaN &         NaN &         NaN \\\\\n",
      "         cesd &                                  CES-D total score &                                            numeric &         NaN &         NaN &         NaN \\\\\n",
      "       stai\\_t &                                         STAI score &                                            numeric &         NaN &         NaN &         NaN \\\\\n",
      "       mbi\\_ex &                           MBI Emotional Exhaustion &                                            numeric &         NaN &         NaN &         NaN \\\\\n",
      "       mbi\\_cy &                                      MBI Cynicism  &                                            numeric &         NaN &         NaN &         NaN \\\\\n",
      "       mbi\\_ea &                             MBI Academic Efficacy  &                                            numeric &         NaN &         NaN &         NaN \\\\\n",
      "\\bottomrule\n",
      "\\end{tabular}\n",
      "\n"
     ]
    },
    {
     "name": "stderr",
     "output_type": "stream",
     "text": [
      "C:\\Users\\orion\\AppData\\Local\\Temp\\ipykernel_17420\\1183090734.py:8: FutureWarning: In future versions `DataFrame.to_latex` is expected to utilise the base implementation of `Styler.to_latex` for formatting and rendering. The arguments signature may therefore change. It is recommended instead to use `DataFrame.style.to_latex` which also contains additional functionality.\n",
      "  print(data_info.head(21).to_latex(index=False))\n"
     ]
    }
   ],
   "source": [
    "from sklearn.model_selection import StratifiedShuffleSplit\n",
    "\n",
    "# read in data \n",
    "data = pd.read_csv(r\".\\Data Carrard et al. 2022 MedTeach.csv\")\n",
    "    \n",
    "data_info = pd.read_csv(r\".\\Codebook Carrard et al. 2022 MedTeach.csv\", sep=\";\")\n",
    "# print(data)\n",
    "print(data_info.head(21).to_latex(index=False))"
   ]
  },
  {
   "attachments": {},
   "cell_type": "markdown",
   "metadata": {},
   "source": [
    "### Visualize Burnout Metric Distribution"
   ]
  },
  {
   "cell_type": "code",
   "execution_count": 210,
   "metadata": {},
   "outputs": [
    {
     "data": {
      "image/png": "[encoded data removed]",
      "text/plain": [
       "<Figure size 432x288 with 1 Axes>"
      ]
     },
     "metadata": {
      "needs_background": "light"
     },
     "output_type": "display_data"
    },
    {
     "name": "stdout",
     "output_type": "stream",
     "text": [
      "count    886.000000\n",
      "mean      16.878104\n",
      "std        5.256025\n",
      "min        5.000000\n",
      "25%       13.000000\n",
      "50%       17.000000\n",
      "75%       20.000000\n",
      "max       30.000000\n",
      "Name: mbi_ex, dtype: float64\n"
     ]
    },
    {
     "data": {
      "image/png": "[encoded data removed]",
      "text/plain": [
       "<Figure size 432x288 with 1 Axes>"
      ]
     },
     "metadata": {
      "needs_background": "light"
     },
     "output_type": "display_data"
    },
    {
     "name": "stdout",
     "output_type": "stream",
     "text": [
      "count    886.000000\n",
      "mean      10.079007\n",
      "std        4.592609\n",
      "min        4.000000\n",
      "25%        6.000000\n",
      "50%        9.000000\n",
      "75%       13.000000\n",
      "max       24.000000\n",
      "Name: mbi_cy, dtype: float64\n"
     ]
    },
    {
     "data": {
      "image/png": "[encoded data removed]",
      "text/plain": [
       "<Figure size 432x288 with 1 Axes>"
      ]
     },
     "metadata": {
      "needs_background": "light"
     },
     "output_type": "display_data"
    },
    {
     "name": "stdout",
     "output_type": "stream",
     "text": [
      "count    886.000000\n",
      "mean      24.207675\n",
      "std        4.633675\n",
      "min       10.000000\n",
      "25%       21.000000\n",
      "50%       24.000000\n",
      "75%       28.000000\n",
      "max       36.000000\n",
      "Name: mbi_ea, dtype: float64\n"
     ]
    }
   ],
   "source": [
    "#plot histogram of data, mbi_ex\n",
    "plt.hist(data['mbi_ex'], bins=100, color='blue', edgecolor='black', alpha=0.65)\n",
    "plt.xlabel('mbi_ex')\n",
    "plt.ylabel('Frequency')\n",
    "plt.title('Emotional Exhaustion')\n",
    "plt.show()\n",
    "print(data['mbi_ex'].describe())\n",
    "\n",
    "plt.hist(data['mbi_cy'], bins=100, color='blue', edgecolor='black', alpha=0.65)\n",
    "plt.xlabel('mbi_cy')\n",
    "plt.ylabel('Frequency')\n",
    "plt.title('Cynicism')\n",
    "plt.show()\n",
    "print(data['mbi_cy'].describe())\n",
    "\n",
    "plt.hist(data['mbi_ea'], bins=100, color='blue', edgecolor='black', alpha=0.65)\n",
    "plt.xlabel('mbi_ea')\n",
    "plt.ylabel('Frequency')\n",
    "plt.title('Academic Efficacy')\n",
    "plt.show()\n",
    "print(data['mbi_ea'].describe())\n",
    "\n"
   ]
  },
  {
   "attachments": {},
   "cell_type": "markdown",
   "metadata": {},
   "source": [
    "## Data Preprocessing\n",
    "\n",
    "Here we set certain parameters to be more easily classified. "
   ]
  },
  {
   "cell_type": "code",
   "execution_count": 211,
   "metadata": {},
   "outputs": [],
   "source": [
    "#set 'sex' to 0 or 1\n",
    "data['sex'] = data['sex'] - 1\n",
    "\n",
    "#set 'mbi_ex' to 0 if below 24, 1 if above\n",
    "data['mbi_ex'] = np.where(data['mbi_ex'] < 21.5, 0, 1)\n",
    "\n",
    "#set 'mbi_cy' to 0 if below 10, 1 if above\n",
    "data['mbi_cy'] = np.where(data['mbi_cy'] < 10, 0, 1)\n",
    "\n",
    "#set 'mbi_ea' to 0 if above 31, 1 if below\n",
    "data['mbi_ea'] = np.where(data['mbi_ea'] > 31, 0, 1)\n",
    "\n",
    "#set 'glang' to 0 if not already 1\n",
    "data['glang'] = np.where(data['glang'] > 1, 0, data['glang'])\n",
    "\n",
    "#split half of the data randomly into training and validation sets\n",
    "split = StratifiedShuffleSplit(n_splits=1, test_size=0.2, random_state=42)\n",
    "for train_index, val_index in split.split(data, data[\"mbi_ex\"]):\n",
    "    train = data.loc[train_index]\n",
    "    val = data.loc[val_index]\n",
    "\n",
    "\n",
    "# Dataframe to hold results on performance of models\n",
    "\n",
    "results = pd.DataFrame(columns=['Model', 'Accuracy', 'Metric Predicted'])"
   ]
  },
  {
   "attachments": {},
   "cell_type": "markdown",
   "metadata": {},
   "source": [
    "### Predicting Burnout:\n",
    "\n",
    "It is important to note that these values for burnout were collected as a result of psychological surveys. If this were to be used in some automated fashion, then it would have to draw conclusions on data which would be accessable, but not in the form of a survey.\n",
    "\n",
    "For the sake of this use case, its assumed that the following are known:\n",
    "\n",
    "- age\n",
    "- year\n",
    "- sex\n",
    "- mother tongue\n",
    "- partnership status\n",
    "- job status\n",
    "- hours of study per week\n",
    "- satisfaction with health\n",
    "- was psychotherapy had in the last year"
   ]
  },
  {
   "cell_type": "code",
   "execution_count": 212,
   "metadata": {},
   "outputs": [],
   "source": [
    "from sklearn import ensemble\n",
    "\n",
    "y_ex_train = train['mbi_ex']\n",
    "y_cy_train = train['mbi_cy']\n",
    "y_ea_train = train['mbi_ea']\n",
    "y_ex_val = val['mbi_ex']\n",
    "y_cy_val = val['mbi_cy']\n",
    "y_ea_val = val['mbi_ea']\n",
    "val_X = val[['id', 'age', 'year', 'sex', 'glang', 'part', 'job', 'stud_h', 'health', 'psyt']]\n",
    "train_X = train[['id', 'age', 'year', 'sex', 'glang', 'part', 'job', 'stud_h', 'health', 'psyt']]\n"
   ]
  },
  {
   "attachments": {},
   "cell_type": "markdown",
   "metadata": {},
   "source": [
    "## Fitting Random Forest\n",
    "##### Using Random Forest to predict burnout values"
   ]
  },
  {
   "cell_type": "code",
   "execution_count": 215,
   "metadata": {},
   "outputs": [
    {
     "name": "stdout",
     "output_type": "stream",
     "text": [
      "Forest Model - Classifier, Exhaustion\n",
      "Best n_estimators: 10\n",
      "Best max_depth: 2\n",
      "Training score: 1.0\n",
      "Validation score: 0.7584269662921348\n",
      "Forest Model - Classifier, Cynicism\n"
     ]
    },
    {
     "name": "stderr",
     "output_type": "stream",
     "text": [
      "C:\\Users\\orion\\AppData\\Local\\Temp\\ipykernel_17420\\1894273327.py:31: FutureWarning: The frame.append method is deprecated and will be removed from pandas in a future version. Use pandas.concat instead.\n",
      "  results = results.append({'Model': 'Forest Model - Classifier, Exhaustion', 'Accuracy': best_forest_model.score(val_X, y_ex_val), 'Metric Predicted': 'Exhaustion'}, ignore_index=True)\n"
     ]
    },
    {
     "name": "stdout",
     "output_type": "stream",
     "text": [
      "Training score: 1.0\n",
      "Validation score: 0.5955056179775281\n",
      "Forest Model - Classifier, Academic Efficacy\n"
     ]
    },
    {
     "name": "stderr",
     "output_type": "stream",
     "text": [
      "C:\\Users\\orion\\AppData\\Local\\Temp\\ipykernel_17420\\1894273327.py:39: FutureWarning: The frame.append method is deprecated and will be removed from pandas in a future version. Use pandas.concat instead.\n",
      "  results = results.append({'Model': 'Forest Model - Classifier, Cynicism', 'Accuracy': forest_model.score(val_X, y_cy_val), 'Metric Predicted': 'Cynicism'}, ignore_index=True)\n"
     ]
    },
    {
     "name": "stdout",
     "output_type": "stream",
     "text": [
      "Training score: 1.0\n",
      "Validation score: 0.9719101123595506\n"
     ]
    },
    {
     "name": "stderr",
     "output_type": "stream",
     "text": [
      "C:\\Users\\orion\\AppData\\Local\\Temp\\ipykernel_17420\\1894273327.py:47: FutureWarning: The frame.append method is deprecated and will be removed from pandas in a future version. Use pandas.concat instead.\n",
      "  results = results.append({'Model': 'Forest Model - Classifier, Academic Efficacy', 'Accuracy': forest_model.score(val_X, y_ea_val), 'Metric Predicted': 'Academic Efficacy'}, ignore_index=True)\n"
     ]
    }
   ],
   "source": [
    "#using random forest classifier to predict burnout\n",
    "from sklearn.ensemble import RandomForestClassifier\n",
    "from sklearn.metrics import accuracy_score\n",
    "\n",
    "\n",
    "n_estimators = [10, 100, 200, 1000]\n",
    "max_depth = [2, 5, 20, 100, None]\n",
    "\n",
    "# Exhaustion\n",
    "max_performance = 0\n",
    "best_forest_model = None\n",
    "for n in n_estimators:\n",
    "    for depth in max_depth:\n",
    "        \n",
    "        forest_model = RandomForestClassifier(n_estimators=100, random_state=0, max_depth=20)\n",
    "        forest_model.fit(train_X, y_ex_train)\n",
    "\n",
    "        performance = forest_model.score(val_X, y_ex_val)\n",
    "        if performance > max_performance:\n",
    "            best_n = n\n",
    "            best_depth = depth\n",
    "            max_performance = performance\n",
    "            best_forest_model = forest_model\n",
    "\n",
    "print(\"Forest Model - Classifier, Exhaustion\")\n",
    "print(\"Best n_estimators:\", best_n)\n",
    "print(\"Best max_depth:\", best_depth)\n",
    "print(\"Training score:\", best_forest_model.score(train_X, y_ex_train))\n",
    "print(\"Validation score:\", best_forest_model.score(val_X, y_ex_val))\n",
    "\n",
    "results = results.append({'Model': 'Forest Model - Classifier, Exhaustion', 'Accuracy': best_forest_model.score(val_X, y_ex_val), 'Metric Predicted': 'Exhaustion'}, ignore_index=True)\n",
    "\n",
    "# Cynicism\n",
    "print(\"Forest Model - Classifier, Cynicism\")\n",
    "forest_model = RandomForestClassifier(n_estimators=100, random_state=0, max_depth=20)\n",
    "forest_model.fit(train_X, y_cy_train)\n",
    "print(\"Training score:\", forest_model.score(train_X, y_cy_train))\n",
    "print(\"Validation score:\", forest_model.score(val_X, y_cy_val))\n",
    "results = results.append({'Model': 'Forest Model - Classifier, Cynicism', 'Accuracy': forest_model.score(val_X, y_cy_val), 'Metric Predicted': 'Cynicism'}, ignore_index=True)\n",
    "\n",
    "# Academic Efficacy\n",
    "print(\"Forest Model - Classifier, Academic Efficacy\")\n",
    "forest_model = RandomForestClassifier(n_estimators=100, random_state=0, max_depth=20)\n",
    "forest_model.fit(train_X, y_ea_train)\n",
    "print(\"Training score:\", forest_model.score(train_X, y_ea_train))\n",
    "print(\"Validation score:\", forest_model.score(val_X, y_ea_val))\n",
    "results = results.append({'Model': 'Forest Model - Classifier, Academic Efficacy', 'Accuracy': forest_model.score(val_X, y_ea_val), 'Metric Predicted': 'Academic Efficacy'}, ignore_index=True)\n"
   ]
  },
  {
   "attachments": {},
   "cell_type": "markdown",
   "metadata": {},
   "source": [
    "##### Evaluating Random Forest"
   ]
  },
  {
   "cell_type": "code",
   "execution_count": null,
   "metadata": {},
   "outputs": [],
   "source": [
    "\n"
   ]
  },
  {
   "attachments": {},
   "cell_type": "markdown",
   "metadata": {},
   "source": [
    "## Fitting Neural Net\n",
    "##### Using Neural Net to predict burnout values"
   ]
  },
  {
   "cell_type": "code",
   "execution_count": 214,
   "metadata": {},
   "outputs": [
    {
     "name": "stdout",
     "output_type": "stream",
     "text": [
      "Neural Network - Exhaustion\n",
      "6/6 [==============================] - 0s 2ms/step - loss: 0.4829 - accuracy: 0.7865\n",
      "Accuracy: 78.65\n",
      "Neural Network - Cynicism\n"
     ]
    },
    {
     "name": "stderr",
     "output_type": "stream",
     "text": [
      "C:\\Users\\orion\\AppData\\Local\\Temp\\ipykernel_17420\\2000117926.py:15: FutureWarning: The frame.append method is deprecated and will be removed from pandas in a future version. Use pandas.concat instead.\n",
      "  results = results.append({'Model': 'Neural Network - Exhaustion', 'Accuracy': accuracy, 'Metric Predicted': 'Exhaustion'}, ignore_index=True)\n"
     ]
    },
    {
     "name": "stdout",
     "output_type": "stream",
     "text": [
      "6/6 [==============================] - 0s 2ms/step - loss: 0.7712 - accuracy: 0.5618\n",
      "Accuracy: 56.18\n",
      "Neural Network - Academic Efficacy\n"
     ]
    },
    {
     "name": "stderr",
     "output_type": "stream",
     "text": [
      "C:\\Users\\orion\\AppData\\Local\\Temp\\ipykernel_17420\\2000117926.py:26: FutureWarning: The frame.append method is deprecated and will be removed from pandas in a future version. Use pandas.concat instead.\n",
      "  results = results.append({'Model': 'Neural Network - Cynicism', 'Accuracy': accuracy, 'Metric Predicted': 'Cynicism'}, ignore_index=True)\n"
     ]
    },
    {
     "ename": "KeyboardInterrupt",
     "evalue": "",
     "output_type": "error",
     "traceback": [
      "\u001b[1;31m---------------------------------------------------------------------------\u001b[0m",
      "\u001b[1;31mKeyboardInterrupt\u001b[0m                         Traceback (most recent call last)",
      "\u001b[1;32mc:\\Users\\orion\\OneDrive\\Documents\\CMPT455\\BurnoutPrediction\\Burnout_Analysis.ipynb Cell 15\u001b[0m in \u001b[0;36m<cell line: 34>\u001b[1;34m()\u001b[0m\n\u001b[0;32m     <a href='vscode-notebook-cell:/c%3A/Users/orion/OneDrive/Documents/CMPT455/BurnoutPrediction/Burnout_Analysis.ipynb#X14sZmlsZQ%3D%3D?line=31'>32</a>\u001b[0m model\u001b[39m.\u001b[39madd(Dense(\u001b[39m1\u001b[39m, activation\u001b[39m=\u001b[39m\u001b[39m'\u001b[39m\u001b[39msigmoid\u001b[39m\u001b[39m'\u001b[39m))\n\u001b[0;32m     <a href='vscode-notebook-cell:/c%3A/Users/orion/OneDrive/Documents/CMPT455/BurnoutPrediction/Burnout_Analysis.ipynb#X14sZmlsZQ%3D%3D?line=32'>33</a>\u001b[0m model\u001b[39m.\u001b[39mcompile(loss\u001b[39m=\u001b[39m\u001b[39m'\u001b[39m\u001b[39mbinary_crossentropy\u001b[39m\u001b[39m'\u001b[39m, optimizer\u001b[39m=\u001b[39m\u001b[39m'\u001b[39m\u001b[39madam\u001b[39m\u001b[39m'\u001b[39m, metrics\u001b[39m=\u001b[39m[\u001b[39m'\u001b[39m\u001b[39maccuracy\u001b[39m\u001b[39m'\u001b[39m])\n\u001b[1;32m---> <a href='vscode-notebook-cell:/c%3A/Users/orion/OneDrive/Documents/CMPT455/BurnoutPrediction/Burnout_Analysis.ipynb#X14sZmlsZQ%3D%3D?line=33'>34</a>\u001b[0m model\u001b[39m.\u001b[39;49mfit(train_X, y_ea_train, epochs\u001b[39m=\u001b[39;49m\u001b[39m100\u001b[39;49m, batch_size\u001b[39m=\u001b[39;49m\u001b[39m10\u001b[39;49m, verbose\u001b[39m=\u001b[39;49m\u001b[39m0\u001b[39;49m)\n\u001b[0;32m     <a href='vscode-notebook-cell:/c%3A/Users/orion/OneDrive/Documents/CMPT455/BurnoutPrediction/Burnout_Analysis.ipynb#X14sZmlsZQ%3D%3D?line=34'>35</a>\u001b[0m _, accuracy \u001b[39m=\u001b[39m model\u001b[39m.\u001b[39mevaluate(val_X, y_ea_val)\n\u001b[0;32m     <a href='vscode-notebook-cell:/c%3A/Users/orion/OneDrive/Documents/CMPT455/BurnoutPrediction/Burnout_Analysis.ipynb#X14sZmlsZQ%3D%3D?line=35'>36</a>\u001b[0m \u001b[39mprint\u001b[39m(\u001b[39m'\u001b[39m\u001b[39mAccuracy: \u001b[39m\u001b[39m%.2f\u001b[39;00m\u001b[39m'\u001b[39m \u001b[39m%\u001b[39m (accuracy\u001b[39m*\u001b[39m\u001b[39m100\u001b[39m))\n",
      "File \u001b[1;32mc:\\Users\\orion\\anaconda3\\envs\\ailearn\\lib\\site-packages\\keras\\utils\\traceback_utils.py:65\u001b[0m, in \u001b[0;36mfilter_traceback.<locals>.error_handler\u001b[1;34m(*args, **kwargs)\u001b[0m\n\u001b[0;32m     63\u001b[0m filtered_tb \u001b[39m=\u001b[39m \u001b[39mNone\u001b[39;00m\n\u001b[0;32m     64\u001b[0m \u001b[39mtry\u001b[39;00m:\n\u001b[1;32m---> 65\u001b[0m     \u001b[39mreturn\u001b[39;00m fn(\u001b[39m*\u001b[39margs, \u001b[39m*\u001b[39m\u001b[39m*\u001b[39mkwargs)\n\u001b[0;32m     66\u001b[0m \u001b[39mexcept\u001b[39;00m \u001b[39mException\u001b[39;00m \u001b[39mas\u001b[39;00m e:\n\u001b[0;32m     67\u001b[0m     filtered_tb \u001b[39m=\u001b[39m _process_traceback_frames(e\u001b[39m.\u001b[39m__traceback__)\n",
      "File \u001b[1;32mc:\\Users\\orion\\anaconda3\\envs\\ailearn\\lib\\site-packages\\keras\\engine\\training.py:1650\u001b[0m, in \u001b[0;36mModel.fit\u001b[1;34m(self, x, y, batch_size, epochs, verbose, callbacks, validation_split, validation_data, shuffle, class_weight, sample_weight, initial_epoch, steps_per_epoch, validation_steps, validation_batch_size, validation_freq, max_queue_size, workers, use_multiprocessing)\u001b[0m\n\u001b[0;32m   1642\u001b[0m \u001b[39mwith\u001b[39;00m tf\u001b[39m.\u001b[39mprofiler\u001b[39m.\u001b[39mexperimental\u001b[39m.\u001b[39mTrace(\n\u001b[0;32m   1643\u001b[0m     \u001b[39m\"\u001b[39m\u001b[39mtrain\u001b[39m\u001b[39m\"\u001b[39m,\n\u001b[0;32m   1644\u001b[0m     epoch_num\u001b[39m=\u001b[39mepoch,\n\u001b[1;32m   (...)\u001b[0m\n\u001b[0;32m   1647\u001b[0m     _r\u001b[39m=\u001b[39m\u001b[39m1\u001b[39m,\n\u001b[0;32m   1648\u001b[0m ):\n\u001b[0;32m   1649\u001b[0m     callbacks\u001b[39m.\u001b[39mon_train_batch_begin(step)\n\u001b[1;32m-> 1650\u001b[0m     tmp_logs \u001b[39m=\u001b[39m \u001b[39mself\u001b[39;49m\u001b[39m.\u001b[39;49mtrain_function(iterator)\n\u001b[0;32m   1651\u001b[0m     \u001b[39mif\u001b[39;00m data_handler\u001b[39m.\u001b[39mshould_sync:\n\u001b[0;32m   1652\u001b[0m         context\u001b[39m.\u001b[39masync_wait()\n",
      "File \u001b[1;32mc:\\Users\\orion\\anaconda3\\envs\\ailearn\\lib\\site-packages\\tensorflow\\python\\util\\traceback_utils.py:150\u001b[0m, in \u001b[0;36mfilter_traceback.<locals>.error_handler\u001b[1;34m(*args, **kwargs)\u001b[0m\n\u001b[0;32m    148\u001b[0m filtered_tb \u001b[39m=\u001b[39m \u001b[39mNone\u001b[39;00m\n\u001b[0;32m    149\u001b[0m \u001b[39mtry\u001b[39;00m:\n\u001b[1;32m--> 150\u001b[0m   \u001b[39mreturn\u001b[39;00m fn(\u001b[39m*\u001b[39margs, \u001b[39m*\u001b[39m\u001b[39m*\u001b[39mkwargs)\n\u001b[0;32m    151\u001b[0m \u001b[39mexcept\u001b[39;00m \u001b[39mException\u001b[39;00m \u001b[39mas\u001b[39;00m e:\n\u001b[0;32m    152\u001b[0m   filtered_tb \u001b[39m=\u001b[39m _process_traceback_frames(e\u001b[39m.\u001b[39m__traceback__)\n",
      "File \u001b[1;32mc:\\Users\\orion\\anaconda3\\envs\\ailearn\\lib\\site-packages\\tensorflow\\python\\eager\\polymorphic_function\\polymorphic_function.py:880\u001b[0m, in \u001b[0;36mFunction.__call__\u001b[1;34m(self, *args, **kwds)\u001b[0m\n\u001b[0;32m    877\u001b[0m compiler \u001b[39m=\u001b[39m \u001b[39m\"\u001b[39m\u001b[39mxla\u001b[39m\u001b[39m\"\u001b[39m \u001b[39mif\u001b[39;00m \u001b[39mself\u001b[39m\u001b[39m.\u001b[39m_jit_compile \u001b[39melse\u001b[39;00m \u001b[39m\"\u001b[39m\u001b[39mnonXla\u001b[39m\u001b[39m\"\u001b[39m\n\u001b[0;32m    879\u001b[0m \u001b[39mwith\u001b[39;00m OptionalXlaContext(\u001b[39mself\u001b[39m\u001b[39m.\u001b[39m_jit_compile):\n\u001b[1;32m--> 880\u001b[0m   result \u001b[39m=\u001b[39m \u001b[39mself\u001b[39m\u001b[39m.\u001b[39m_call(\u001b[39m*\u001b[39margs, \u001b[39m*\u001b[39m\u001b[39m*\u001b[39mkwds)\n\u001b[0;32m    882\u001b[0m new_tracing_count \u001b[39m=\u001b[39m \u001b[39mself\u001b[39m\u001b[39m.\u001b[39mexperimental_get_tracing_count()\n\u001b[0;32m    883\u001b[0m without_tracing \u001b[39m=\u001b[39m (tracing_count \u001b[39m==\u001b[39m new_tracing_count)\n",
      "File \u001b[1;32mc:\\Users\\orion\\anaconda3\\envs\\ailearn\\lib\\site-packages\\tensorflow\\python\\eager\\polymorphic_function\\polymorphic_function.py:928\u001b[0m, in \u001b[0;36mFunction._call\u001b[1;34m(self, *args, **kwds)\u001b[0m\n\u001b[0;32m    925\u001b[0m \u001b[39mtry\u001b[39;00m:\n\u001b[0;32m    926\u001b[0m   \u001b[39m# This is the first call of __call__, so we have to initialize.\u001b[39;00m\n\u001b[0;32m    927\u001b[0m   initializers \u001b[39m=\u001b[39m []\n\u001b[1;32m--> 928\u001b[0m   \u001b[39mself\u001b[39;49m\u001b[39m.\u001b[39;49m_initialize(args, kwds, add_initializers_to\u001b[39m=\u001b[39;49minitializers)\n\u001b[0;32m    929\u001b[0m \u001b[39mfinally\u001b[39;00m:\n\u001b[0;32m    930\u001b[0m   \u001b[39m# At this point we know that the initialization is complete (or less\u001b[39;00m\n\u001b[0;32m    931\u001b[0m   \u001b[39m# interestingly an exception was raised) so we no longer need a lock.\u001b[39;00m\n\u001b[0;32m    932\u001b[0m   \u001b[39mself\u001b[39m\u001b[39m.\u001b[39m_lock\u001b[39m.\u001b[39mrelease()\n",
      "File \u001b[1;32mc:\\Users\\orion\\anaconda3\\envs\\ailearn\\lib\\site-packages\\tensorflow\\python\\eager\\polymorphic_function\\polymorphic_function.py:749\u001b[0m, in \u001b[0;36mFunction._initialize\u001b[1;34m(self, args, kwds, add_initializers_to)\u001b[0m\n\u001b[0;32m    746\u001b[0m \u001b[39mself\u001b[39m\u001b[39m.\u001b[39m_lifted_initializer_graph \u001b[39m=\u001b[39m lifted_initializer_graph\n\u001b[0;32m    747\u001b[0m \u001b[39mself\u001b[39m\u001b[39m.\u001b[39m_graph_deleter \u001b[39m=\u001b[39m FunctionDeleter(\u001b[39mself\u001b[39m\u001b[39m.\u001b[39m_lifted_initializer_graph)\n\u001b[0;32m    748\u001b[0m \u001b[39mself\u001b[39m\u001b[39m.\u001b[39m_concrete_variable_creation_fn \u001b[39m=\u001b[39m (\n\u001b[1;32m--> 749\u001b[0m     \u001b[39mself\u001b[39m\u001b[39m.\u001b[39m_variable_creation_fn    \u001b[39m# pylint: disable=protected-access\u001b[39;00m\n\u001b[0;32m    750\u001b[0m     \u001b[39m.\u001b[39m_get_concrete_function_internal_garbage_collected(\n\u001b[0;32m    751\u001b[0m         \u001b[39m*\u001b[39margs, \u001b[39m*\u001b[39m\u001b[39m*\u001b[39mkwds))\n\u001b[0;32m    753\u001b[0m \u001b[39mdef\u001b[39;00m \u001b[39minvalid_creator_scope\u001b[39m(\u001b[39m*\u001b[39munused_args, \u001b[39m*\u001b[39m\u001b[39m*\u001b[39munused_kwds):\n\u001b[0;32m    754\u001b[0m \u001b[39m  \u001b[39m\u001b[39m\"\"\"Disables variable creation.\"\"\"\u001b[39;00m\n",
      "File \u001b[1;32mc:\\Users\\orion\\anaconda3\\envs\\ailearn\\lib\\site-packages\\tensorflow\\python\\eager\\polymorphic_function\\tracing_compiler.py:162\u001b[0m, in \u001b[0;36mTracingCompiler._get_concrete_function_internal_garbage_collected\u001b[1;34m(self, *args, **kwargs)\u001b[0m\n\u001b[0;32m    160\u001b[0m \u001b[39m\u001b[39m\u001b[39m\"\"\"Returns a concrete function which cleans up its graph function.\"\"\"\u001b[39;00m\n\u001b[0;32m    161\u001b[0m \u001b[39mwith\u001b[39;00m \u001b[39mself\u001b[39m\u001b[39m.\u001b[39m_lock:\n\u001b[1;32m--> 162\u001b[0m   concrete_function, _ \u001b[39m=\u001b[39m \u001b[39mself\u001b[39;49m\u001b[39m.\u001b[39;49m_maybe_define_concrete_function(args, kwargs)\n\u001b[0;32m    163\u001b[0m \u001b[39mreturn\u001b[39;00m concrete_function\n",
      "File \u001b[1;32mc:\\Users\\orion\\anaconda3\\envs\\ailearn\\lib\\site-packages\\tensorflow\\python\\eager\\polymorphic_function\\tracing_compiler.py:157\u001b[0m, in \u001b[0;36mTracingCompiler._maybe_define_concrete_function\u001b[1;34m(self, args, kwargs)\u001b[0m\n\u001b[0;32m    154\u001b[0m   args \u001b[39m=\u001b[39m \u001b[39mself\u001b[39m\u001b[39m.\u001b[39minput_signature\n\u001b[0;32m    155\u001b[0m   kwargs \u001b[39m=\u001b[39m {}\n\u001b[1;32m--> 157\u001b[0m \u001b[39mreturn\u001b[39;00m \u001b[39mself\u001b[39;49m\u001b[39m.\u001b[39;49m_maybe_define_function(args, kwargs)\n",
      "File \u001b[1;32mc:\\Users\\orion\\anaconda3\\envs\\ailearn\\lib\\site-packages\\tensorflow\\python\\eager\\polymorphic_function\\tracing_compiler.py:360\u001b[0m, in \u001b[0;36mTracingCompiler._maybe_define_function\u001b[1;34m(self, args, kwargs)\u001b[0m\n\u001b[0;32m    357\u001b[0m   \u001b[39m# Only get placeholders for arguments, not captures\u001b[39;00m\n\u001b[0;32m    358\u001b[0m   args, kwargs \u001b[39m=\u001b[39m generalized_func_key\u001b[39m.\u001b[39m_placeholder_value()  \u001b[39m# pylint: disable=protected-access\u001b[39;00m\n\u001b[1;32m--> 360\u001b[0m concrete_function \u001b[39m=\u001b[39m \u001b[39mself\u001b[39;49m\u001b[39m.\u001b[39;49m_create_concrete_function(args, kwargs)\n\u001b[0;32m    362\u001b[0m graph_capture_container \u001b[39m=\u001b[39m concrete_function\u001b[39m.\u001b[39mgraph\u001b[39m.\u001b[39m_capture_func_lib  \u001b[39m# pylint: disable=protected-access\u001b[39;00m\n\u001b[0;32m    363\u001b[0m \u001b[39m# Maintain the list of all captures\u001b[39;00m\n",
      "File \u001b[1;32mc:\\Users\\orion\\anaconda3\\envs\\ailearn\\lib\\site-packages\\tensorflow\\python\\eager\\polymorphic_function\\tracing_compiler.py:283\u001b[0m, in \u001b[0;36mTracingCompiler._create_concrete_function\u001b[1;34m(self, args, kwargs)\u001b[0m\n\u001b[0;32m    279\u001b[0m missing_arg_names \u001b[39m=\u001b[39m [\n\u001b[0;32m    280\u001b[0m     \u001b[39m\"\u001b[39m\u001b[39m%s\u001b[39;00m\u001b[39m_\u001b[39m\u001b[39m%d\u001b[39;00m\u001b[39m\"\u001b[39m \u001b[39m%\u001b[39m (arg, i) \u001b[39mfor\u001b[39;00m i, arg \u001b[39min\u001b[39;00m \u001b[39menumerate\u001b[39m(missing_arg_names)\n\u001b[0;32m    281\u001b[0m ]\n\u001b[0;32m    282\u001b[0m arg_names \u001b[39m=\u001b[39m base_arg_names \u001b[39m+\u001b[39m missing_arg_names\n\u001b[1;32m--> 283\u001b[0m concrete_function \u001b[39m=\u001b[39m monomorphic_function\u001b[39m.\u001b[39;49mConcreteFunction(\n\u001b[0;32m    284\u001b[0m     func_graph_module\u001b[39m.\u001b[39;49mfunc_graph_from_py_func(\n\u001b[0;32m    285\u001b[0m         \u001b[39mself\u001b[39;49m\u001b[39m.\u001b[39;49m_name,\n\u001b[0;32m    286\u001b[0m         \u001b[39mself\u001b[39;49m\u001b[39m.\u001b[39;49m_python_function,\n\u001b[0;32m    287\u001b[0m         args,\n\u001b[0;32m    288\u001b[0m         kwargs,\n\u001b[0;32m    289\u001b[0m         \u001b[39mNone\u001b[39;49;00m,\n\u001b[0;32m    290\u001b[0m         autograph\u001b[39m=\u001b[39;49m\u001b[39mself\u001b[39;49m\u001b[39m.\u001b[39;49m_autograph,\n\u001b[0;32m    291\u001b[0m         autograph_options\u001b[39m=\u001b[39;49m\u001b[39mself\u001b[39;49m\u001b[39m.\u001b[39;49m_autograph_options,\n\u001b[0;32m    292\u001b[0m         arg_names\u001b[39m=\u001b[39;49marg_names,\n\u001b[0;32m    293\u001b[0m         capture_by_value\u001b[39m=\u001b[39;49m\u001b[39mself\u001b[39;49m\u001b[39m.\u001b[39;49m_capture_by_value),\n\u001b[0;32m    294\u001b[0m     \u001b[39mself\u001b[39;49m\u001b[39m.\u001b[39;49m_function_attributes,\n\u001b[0;32m    295\u001b[0m     spec\u001b[39m=\u001b[39;49m\u001b[39mself\u001b[39;49m\u001b[39m.\u001b[39;49mfunction_spec,\n\u001b[0;32m    296\u001b[0m     \u001b[39m# Tell the ConcreteFunction to clean up its graph once it goes out of\u001b[39;49;00m\n\u001b[0;32m    297\u001b[0m     \u001b[39m# scope. This is not the default behavior since it gets used in some\u001b[39;49;00m\n\u001b[0;32m    298\u001b[0m     \u001b[39m# places (like Keras) where the FuncGraph lives longer than the\u001b[39;49;00m\n\u001b[0;32m    299\u001b[0m     \u001b[39m# ConcreteFunction.\u001b[39;49;00m\n\u001b[0;32m    300\u001b[0m     shared_func_graph\u001b[39m=\u001b[39;49m\u001b[39mFalse\u001b[39;49;00m)\n\u001b[0;32m    301\u001b[0m \u001b[39mreturn\u001b[39;00m concrete_function\n",
      "File \u001b[1;32mc:\\Users\\orion\\anaconda3\\envs\\ailearn\\lib\\site-packages\\tensorflow\\python\\eager\\polymorphic_function\\monomorphic_function.py:1363\u001b[0m, in \u001b[0;36mConcreteFunction.__init__\u001b[1;34m(self, func_graph, attrs, shared_func_graph, spec)\u001b[0m\n\u001b[0;32m   1357\u001b[0m   \u001b[39mself\u001b[39m\u001b[39m.\u001b[39m_garbage_collector \u001b[39m=\u001b[39m ConcreteFunctionGarbageCollector(func_graph)\n\u001b[0;32m   1359\u001b[0m \u001b[39m# Pairs of forward and backward functions used for computing gradients.\u001b[39;00m\n\u001b[0;32m   1360\u001b[0m \u001b[39m#\u001b[39;00m\n\u001b[0;32m   1361\u001b[0m \u001b[39m# These each get a reference to the FuncGraph deleter since they use the\u001b[39;00m\n\u001b[0;32m   1362\u001b[0m \u001b[39m# FuncGraph directly.\u001b[39;00m\n\u001b[1;32m-> 1363\u001b[0m \u001b[39mself\u001b[39m\u001b[39m.\u001b[39m_delayed_rewrite_functions \u001b[39m=\u001b[39m _DelayedRewriteGradientFunctions(\n\u001b[0;32m   1364\u001b[0m     func_graph, \u001b[39mself\u001b[39;49m\u001b[39m.\u001b[39;49m_attrs, \u001b[39mself\u001b[39;49m\u001b[39m.\u001b[39;49m_garbage_collector)\n\u001b[0;32m   1365\u001b[0m \u001b[39mself\u001b[39m\u001b[39m.\u001b[39m_first_order_tape_functions \u001b[39m=\u001b[39m {}\n\u001b[0;32m   1366\u001b[0m \u001b[39mself\u001b[39m\u001b[39m.\u001b[39m_higher_order_tape_functions \u001b[39m=\u001b[39m {}\n",
      "File \u001b[1;32mc:\\Users\\orion\\anaconda3\\envs\\ailearn\\lib\\site-packages\\tensorflow\\python\\eager\\polymorphic_function\\monomorphic_function.py:463\u001b[0m, in \u001b[0;36m_DelayedRewriteGradientFunctions.__init__\u001b[1;34m(self, func_graph, attrs, func_graph_deleter)\u001b[0m\n\u001b[0;32m    461\u001b[0m \u001b[39mself\u001b[39m\u001b[39m.\u001b[39m_cached_function_pairs \u001b[39m=\u001b[39m {}\n\u001b[0;32m    462\u001b[0m \u001b[39mself\u001b[39m\u001b[39m.\u001b[39m_func_graph \u001b[39m=\u001b[39m func_graph\n\u001b[1;32m--> 463\u001b[0m \u001b[39mself\u001b[39m\u001b[39m.\u001b[39m_inference_function \u001b[39m=\u001b[39m _EagerDefinedFunction(\n\u001b[0;32m    464\u001b[0m     _inference_name(\u001b[39mself\u001b[39;49m\u001b[39m.\u001b[39;49m_func_graph\u001b[39m.\u001b[39;49mname), \u001b[39mself\u001b[39;49m\u001b[39m.\u001b[39;49m_func_graph,\n\u001b[0;32m    465\u001b[0m     \u001b[39mself\u001b[39;49m\u001b[39m.\u001b[39;49m_func_graph\u001b[39m.\u001b[39;49minputs, \u001b[39mself\u001b[39;49m\u001b[39m.\u001b[39;49m_func_graph\u001b[39m.\u001b[39;49moutputs, attrs)\n\u001b[0;32m    466\u001b[0m \u001b[39mself\u001b[39m\u001b[39m.\u001b[39m_attrs \u001b[39m=\u001b[39m attrs\n\u001b[0;32m    467\u001b[0m \u001b[39mself\u001b[39m\u001b[39m.\u001b[39m_gradient_name \u001b[39m=\u001b[39m \u001b[39mNone\u001b[39;00m\n",
      "File \u001b[1;32mc:\\Users\\orion\\anaconda3\\envs\\ailearn\\lib\\site-packages\\tensorflow\\python\\eager\\polymorphic_function\\monomorphic_function.py:239\u001b[0m, in \u001b[0;36m_EagerDefinedFunction.__init__\u001b[1;34m(self, name, graph, inputs, outputs, attrs)\u001b[0m\n\u001b[0;32m    237\u001b[0m   output_names \u001b[39m=\u001b[39m []\n\u001b[0;32m    238\u001b[0m \u001b[39mwith\u001b[39;00m graph\u001b[39m.\u001b[39m_c_graph\u001b[39m.\u001b[39mget() \u001b[39mas\u001b[39;00m c_graph:  \u001b[39m# pylint: disable=protected-access\u001b[39;00m\n\u001b[1;32m--> 239\u001b[0m   fn \u001b[39m=\u001b[39m pywrap_tf_session\u001b[39m.\u001b[39;49mTF_GraphToFunction_wrapper(\n\u001b[0;32m    240\u001b[0m       c_graph,\n\u001b[0;32m    241\u001b[0m       compat\u001b[39m.\u001b[39;49mas_str(name),\n\u001b[0;32m    242\u001b[0m       \u001b[39mFalse\u001b[39;49;00m,\n\u001b[0;32m    243\u001b[0m       [o\u001b[39m.\u001b[39;49m_c_op \u001b[39mfor\u001b[39;49;00m o \u001b[39min\u001b[39;49;00m operations],  \u001b[39m# pylint: disable=protected-access\u001b[39;49;00m\n\u001b[0;32m    244\u001b[0m       [t\u001b[39m.\u001b[39;49m_as_tf_output() \u001b[39mfor\u001b[39;49;00m t \u001b[39min\u001b[39;49;00m inputs],  \u001b[39m# pylint: disable=protected-access\u001b[39;49;00m\n\u001b[0;32m    245\u001b[0m       [t\u001b[39m.\u001b[39;49m_as_tf_output() \u001b[39mfor\u001b[39;49;00m t \u001b[39min\u001b[39;49;00m outputs],  \u001b[39m# pylint: disable=protected-access\u001b[39;49;00m\n\u001b[0;32m    246\u001b[0m       output_names,\n\u001b[0;32m    247\u001b[0m       [o\u001b[39m.\u001b[39;49m_c_op \u001b[39mfor\u001b[39;49;00m o \u001b[39min\u001b[39;49;00m graph\u001b[39m.\u001b[39;49mcontrol_outputs],  \u001b[39m# pylint: disable=protected-access\u001b[39;49;00m\n\u001b[0;32m    248\u001b[0m       [],  \u001b[39m# control_output_names\u001b[39;49;00m\n\u001b[0;32m    249\u001b[0m       \u001b[39mNone\u001b[39;49;00m,\n\u001b[0;32m    250\u001b[0m       compat\u001b[39m.\u001b[39;49mas_str(\u001b[39m\"\u001b[39;49m\u001b[39m\"\u001b[39;49m))\n\u001b[0;32m    252\u001b[0m \u001b[39mself\u001b[39m\u001b[39m.\u001b[39m_c_func \u001b[39m=\u001b[39m c_api_util\u001b[39m.\u001b[39mScopedTFFunction(fn, name)\n\u001b[0;32m    254\u001b[0m \u001b[39mfor\u001b[39;00m name, attr_value \u001b[39min\u001b[39;00m attrs\u001b[39m.\u001b[39mitems():\n",
      "\u001b[1;31mKeyboardInterrupt\u001b[0m: "
     ]
    }
   ],
   "source": [
    "import tensorflow as tf\n",
    "from tensorflow.keras.models import Sequential\n",
    "from tensorflow.keras.layers import Dense\n",
    "from tensorflow.keras.activations import linear, relu, sigmoid\n",
    "\n",
    "# Exhaustion\n",
    "print(\"Neural Network - Exhaustion\")\n",
    "model = Sequential()\n",
    "model.add(Dense(10, input_dim=10, activation='relu'))\n",
    "model.add(Dense(1, activation='sigmoid'))\n",
    "model.compile(loss='binary_crossentropy', optimizer='adam', metrics=['accuracy'])\n",
    "model.fit(train_X, y_ex_train, epochs=100, batch_size=10, verbose=0)\n",
    "_, accuracy = model.evaluate(val_X, y_ex_val)\n",
    "print('Accuracy: %.2f' % (accuracy*100))\n",
    "results = results.append({'Model': 'Neural Network - Exhaustion', 'Accuracy': accuracy, 'Metric Predicted': 'Exhaustion'}, ignore_index=True)\n",
    "\n",
    "# Cynicism\n",
    "print(\"Neural Network - Cynicism\")\n",
    "model = Sequential()\n",
    "model.add(Dense(10, input_dim=10, activation='relu'))\n",
    "model.add(Dense(1, activation='sigmoid'))\n",
    "model.compile(loss='binary_crossentropy', optimizer='adam', metrics=['accuracy'])\n",
    "model.fit(train_X, y_cy_train, epochs=100, batch_size=10, verbose=0)\n",
    "_, accuracy = model.evaluate(val_X, y_cy_val)\n",
    "print('Accuracy: %.2f' % (accuracy*100))\n",
    "results = results.append({'Model': 'Neural Network - Cynicism', 'Accuracy': accuracy, 'Metric Predicted': 'Cynicism'}, ignore_index=True)\n",
    "\n",
    "# Academic Efficacy\n",
    "print(\"Neural Network - Academic Efficacy\")\n",
    "model = Sequential()\n",
    "model.add(Dense(10, input_dim=10, activation='relu'))\n",
    "model.add(Dense(1, activation='sigmoid'))\n",
    "model.compile(loss='binary_crossentropy', optimizer='adam', metrics=['accuracy'])\n",
    "model.fit(train_X, y_ea_train, epochs=100, batch_size=10, verbose=0)\n",
    "_, accuracy = model.evaluate(val_X, y_ea_val)\n",
    "print('Accuracy: %.2f' % (accuracy*100))\n",
    "results = results.append({'Model': 'Neural Network - Academic Efficacy', 'Accuracy': accuracy, 'Metric Predicted': 'Academic Efficacy'}, ignore_index=True)\n",
    "\n"
   ]
  },
  {
   "attachments": {},
   "cell_type": "markdown",
   "metadata": {},
   "source": [
    "#### Evaluating Neural Net"
   ]
  },
  {
   "cell_type": "code",
   "execution_count": null,
   "metadata": {},
   "outputs": [],
   "source": []
  },
  {
   "attachments": {},
   "cell_type": "markdown",
   "metadata": {},
   "source": [
    "## Evaluating Different Models\n",
    "##### Breaking down and comparing different model performance, performance table shown."
   ]
  },
  {
   "cell_type": "code",
   "execution_count": null,
   "metadata": {},
   "outputs": [
    {
     "name": "stdout",
     "output_type": "stream",
     "text": [
      "                                          Model  Accuracy   Metric Predicted\n",
      "0         Forest Model - Classifier, Exhaustion  0.758427         Exhaustion\n",
      "1           Forest Model - Classifier, Cynicism  0.595506           Cynicism\n",
      "2  Forest Model - Classifier, Academic Efficacy  0.971910  Academic Efficacy\n",
      "3                   Neural Network - Exhaustion  0.786517         Exhaustion\n",
      "4                     Neural Network - Cynicism  0.539326           Cynicism\n",
      "5            Neural Network - Academic Efficacy  0.971910  Academic Efficacy\n"
     ]
    }
   ],
   "source": [
    "print(results)"
   ]
  }
 ],
 "metadata": {
  "kernelspec": {
   "display_name": "ailearn",
   "language": "python",
   "name": "python3"
  },
  "language_info": {
   "codemirror_mode": {
    "name": "ipython",
    "version": 3
   },
   "file_extension": ".py",
   "mimetype": "text/x-python",
   "name": "python",
   "nbconvert_exporter": "python",
   "pygments_lexer": "ipython3",
   "version": "3.10.8"
  },
  "orig_nbformat": 4
 },
 "nbformat": 4,
 "nbformat_minor": 2
}
