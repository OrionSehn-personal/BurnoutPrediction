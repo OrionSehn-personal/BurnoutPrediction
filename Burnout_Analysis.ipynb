{
 "cells": [
  {
   "cell_type": "code",
   "execution_count": 58,
   "metadata": {},
   "outputs": [],
   "source": [
    "import matplotlib.pyplot as plt\n",
    "import numpy as np\n",
    "import pandas as pd"
   ]
  },
  {
   "attachments": {},
   "cell_type": "markdown",
   "metadata": {},
   "source": [
    "### Read in Data"
   ]
  },
  {
   "cell_type": "code",
   "execution_count": 59,
   "metadata": {},
   "outputs": [
    {
     "name": "stdout",
     "output_type": "stream",
     "text": [
      "\\begin{tabular}{lllrrr}\n",
      "\\toprule\n",
      "Variable Name &                                     Variable Label &                                     Variable Scale &  Unnamed: 3 &  Unnamed: 4 &  Unnamed: 5 \\\\\n",
      "\\midrule\n",
      "           id &                             Participants ID number &                                             string &         NaN &         NaN &         NaN \\\\\n",
      "          age &                         age at questionnaire 20-21 &                                            numeric &         NaN &         NaN &         NaN \\\\\n",
      "         year & CURICULUM YEAR : In which curriculum year are you? & 1=Bmed1; 2=Bmed2; 3=Bmed3; 4=Mmed1; 5=Mmed2; 6=... &         NaN &         NaN &         NaN \\\\\n",
      "          sex & GENDER : To which gender do you identify the mo... &                       1=Man; 2=Woman; 3=Non-binary &         NaN &         NaN &         NaN \\\\\n",
      "        glang &         MOTHER TONGUE: What is your mother tongue? & 1=French; 15=German; 20=English; 37=Arab; 51=Ba... &         NaN &         NaN &         NaN \\\\\n",
      "         part &        PARTNERSHIP STATUS : Do you have a partner? &                                        0=No; 1=Yes &         NaN &         NaN &         NaN \\\\\n",
      "          job &             HAVING A JOB : Do you have a paid job? &                                        0=No; 1=Yes &         NaN &         NaN &         NaN \\\\\n",
      "       stud\\_h & HOURS OF STUDY PER WEEK : On average, how many ... &                                                NaN &         NaN &         NaN &         NaN \\\\\n",
      "       health & SATISFACTION WITH HEALTH : How satisfied are yo... & 1=Verydissatisfied; 2=Dissatisfied; 3=Neithersa... &         NaN &         NaN &         NaN \\\\\n",
      "         psyt & PSYCHOTHERAPY LAST YEAR : During the last 12 mo... &                                        0=No; 1=Yes &         NaN &         NaN &         NaN \\\\\n",
      "         jspe &                           JSPE total empathy score &                                            numeric &         NaN &         NaN &         NaN \\\\\n",
      "     qcae\\_cog &                       QCAE Cognitive empathy score &                                            numeric &         NaN &         NaN &         NaN \\\\\n",
      "     qcae\\_aff &                       QCAE Affective empathy score &                                            numeric &         NaN &         NaN &         NaN \\\\\n",
      "         amsp &                                   AMSP total score &                                            numeric &         NaN &         NaN &         NaN \\\\\n",
      "    erec\\_mean &             GERT : mean value of correct responses &                                            numeric &         NaN &         NaN &         NaN \\\\\n",
      "         cesd &                                  CES-D total score &                                            numeric &         NaN &         NaN &         NaN \\\\\n",
      "       stai\\_t &                                         STAI score &                                            numeric &         NaN &         NaN &         NaN \\\\\n",
      "       mbi\\_ex &                           MBI Emotional Exhaustion &                                            numeric &         NaN &         NaN &         NaN \\\\\n",
      "       mbi\\_cy &                                      MBI Cynicism  &                                            numeric &         NaN &         NaN &         NaN \\\\\n",
      "       mbi\\_ea &                             MBI Academic Efficacy  &                                            numeric &         NaN &         NaN &         NaN \\\\\n",
      "\\bottomrule\n",
      "\\end{tabular}\n",
      "\n"
     ]
    },
    {
     "name": "stderr",
     "output_type": "stream",
     "text": [
      "C:\\Users\\orion\\AppData\\Local\\Temp\\ipykernel_17420\\1183090734.py:8: FutureWarning: In future versions `DataFrame.to_latex` is expected to utilise the base implementation of `Styler.to_latex` for formatting and rendering. The arguments signature may therefore change. It is recommended instead to use `DataFrame.style.to_latex` which also contains additional functionality.\n",
      "  print(data_info.head(21).to_latex(index=False))\n"
     ]
    }
   ],
   "source": [
    "from sklearn.model_selection import StratifiedShuffleSplit\n",
    "\n",
    "# read in data \n",
    "data = pd.read_csv(r\".\\Data Carrard et al. 2022 MedTeach.csv\")\n",
    "    \n",
    "data_info = pd.read_csv(r\".\\Codebook Carrard et al. 2022 MedTeach.csv\", sep=\";\")\n",
    "# print(data)\n",
    "print(data_info.head(21).to_latex(index=False))"
   ]
  },
  {
   "attachments": {},
   "cell_type": "markdown",
   "metadata": {},
   "source": [
    "### Visualize Burnout Metric Distribution"
   ]
  },
  {
   "cell_type": "code",
   "execution_count": 60,
   "metadata": {},
   "outputs": [
    {
     "data": {
      "image/png": "[encoded data removed]",
      "text/plain": [
       "<Figure size 432x288 with 1 Axes>"
      ]
     },
     "metadata": {
      "needs_background": "light"
     },
     "output_type": "display_data"
    },
    {
     "name": "stdout",
     "output_type": "stream",
     "text": [
      "count    886.000000\n",
      "mean      16.878104\n",
      "std        5.256025\n",
      "min        5.000000\n",
      "25%       13.000000\n",
      "50%       17.000000\n",
      "75%       20.000000\n",
      "max       30.000000\n",
      "Name: mbi_ex, dtype: float64\n"
     ]
    },
    {
     "data": {
      "image/png": "[encoded data removed]",
      "text/plain": [
       "<Figure size 432x288 with 1 Axes>"
      ]
     },
     "metadata": {
      "needs_background": "light"
     },
     "output_type": "display_data"
    },
    {
     "name": "stdout",
     "output_type": "stream",
     "text": [
      "count    886.000000\n",
      "mean      10.079007\n",
      "std        4.592609\n",
      "min        4.000000\n",
      "25%        6.000000\n",
      "50%        9.000000\n",
      "75%       13.000000\n",
      "max       24.000000\n",
      "Name: mbi_cy, dtype: float64\n"
     ]
    },
    {
     "data": {
      "image/png": "[encoded data removed]",
      "text/plain": [
       "<Figure size 432x288 with 1 Axes>"
      ]
     },
     "metadata": {
      "needs_background": "light"
     },
     "output_type": "display_data"
    },
    {
     "name": "stdout",
     "output_type": "stream",
     "text": [
      "count    886.000000\n",
      "mean      24.207675\n",
      "std        4.633675\n",
      "min       10.000000\n",
      "25%       21.000000\n",
      "50%       24.000000\n",
      "75%       28.000000\n",
      "max       36.000000\n",
      "Name: mbi_ea, dtype: float64\n"
     ]
    }
   ],
   "source": [
    "#plot histogram of data, mbi_ex\n",
    "plt.hist(data['mbi_ex'], bins=100, color='blue', edgecolor='black', alpha=0.65)\n",
    "plt.xlabel('mbi_ex')\n",
    "plt.ylabel('Frequency')\n",
    "plt.title('Emotional Exhaustion')\n",
    "plt.show()\n",
    "print(data['mbi_ex'].describe())\n",
    "\n",
    "plt.hist(data['mbi_cy'], bins=100, color='blue', edgecolor='black', alpha=0.65)\n",
    "plt.xlabel('mbi_cy')\n",
    "plt.ylabel('Frequency')\n",
    "plt.title('Cynicism')\n",
    "plt.show()\n",
    "print(data['mbi_cy'].describe())\n",
    "\n",
    "plt.hist(data['mbi_ea'], bins=100, color='blue', edgecolor='black', alpha=0.65)\n",
    "plt.xlabel('mbi_ea')\n",
    "plt.ylabel('Frequency')\n",
    "plt.title('Academic Efficacy')\n",
    "plt.show()\n",
    "print(data['mbi_ea'].describe())\n",
    "\n"
   ]
  },
  {
   "attachments": {},
   "cell_type": "markdown",
   "metadata": {},
   "source": [
    "## Data Preprocessing\n",
    "\n",
    "Here we set certain parameters to be more easily classified. "
   ]
  },
  {
   "cell_type": "code",
   "execution_count": 61,
   "metadata": {},
   "outputs": [],
   "source": [
    "\n",
    "#set 'sex' to 0 or 1\n",
    "data['sex'] = data['sex'] - 1\n",
    "\n",
    "#set 'mbi_ex' to 0 if below 24, 1 if above\n",
    "data['mbi_ex'] = np.where(data['mbi_ex'] < 21.5, 0, 1)\n",
    "\n",
    "#set 'mbi_cy' to 0 if below 10, 1 if above\n",
    "data['mbi_cy'] = np.where(data['mbi_cy'] < 10, 0, 1)\n",
    "\n",
    "#set 'mbi_ea' to 0 if above 31, 1 if below\n",
    "data['mbi_ea'] = np.where(data['mbi_ea'] > 31, 0, 1)\n",
    "\n",
    "#set 'glang' to 0 if not already 1\n",
    "data['glang'] = np.where(data['glang'] > 1, 0, data['glang'])\n",
    "\n",
    "#split half of the data randomly into training and validation sets\n",
    "split = StratifiedShuffleSplit(n_splits=1, test_size=0.5, random_state=42)\n",
    "for train_index, val_index in split.split(data, data[\"mbi_ex\"]):\n",
    "    train = data.loc[train_index]\n",
    "    val = data.loc[val_index]"
   ]
  },
  {
   "attachments": {},
   "cell_type": "markdown",
   "metadata": {},
   "source": [
    "### Predicting Burnout:\n",
    "\n",
    "It is important to note that these values for burnout were collected as a result of psychological surveys. If this were to be used in some automated fashion, then it would have to draw conclusions on data which would be accessable, but not in the form of a survey.\n",
    "\n",
    "For the sake of this use case, its assumed that the following are known:\n",
    "\n",
    "- age\n",
    "- year\n",
    "- sex\n",
    "- mother tongue\n",
    "- partnership status\n",
    "- job status\n",
    "- hours of study per week\n",
    "- satisfaction with health\n",
    "- was psychotherapy had in the last year"
   ]
  },
  {
   "cell_type": "code",
   "execution_count": 62,
   "metadata": {},
   "outputs": [],
   "source": [
    "from sklearn import ensemble\n",
    "\n",
    "y_ex_train = train['mbi_ex']\n",
    "y_cy_train = train['mbi_cy']\n",
    "y_ea_train = train['mbi_ea']\n",
    "y_ex_val = val['mbi_ex']\n",
    "y_cy_val = val['mbi_cy']\n",
    "y_ea_val = val['mbi_ea']\n",
    "val_X = val[['id', 'age', 'year', 'sex', 'glang', 'part', 'job', 'stud_h', 'health', 'psyt']]\n",
    "train_X = train[['id', 'age', 'year', 'sex', 'glang', 'part', 'job', 'stud_h', 'health', 'psyt']]\n"
   ]
  },
  {
   "attachments": {},
   "cell_type": "markdown",
   "metadata": {},
   "source": [
    "## Fitting Random Forest\n",
    "##### Using Random Forest to predict burnout values"
   ]
  },
  {
   "cell_type": "code",
   "execution_count": 63,
   "metadata": {},
   "outputs": [
    {
     "name": "stdout",
     "output_type": "stream",
     "text": [
      "Forest Model - Classifier, Exhaustion\n",
      "Training score: 1.0\n",
      "Validation score: 0.7742663656884876\n",
      "Forest Model - Classifier, Cynicism\n",
      "Training score: 1.0\n",
      "Validation score: 0.5169300225733634\n",
      "Forest Model - Classifier, Academic Efficacy\n",
      "Training score: 1.0\n",
      "Validation score: 0.9616252821670429\n"
     ]
    }
   ],
   "source": [
    "#using random forest classifier to predict burnout\n",
    "from sklearn.ensemble import RandomForestClassifier\n",
    "from sklearn.metrics import accuracy_score\n",
    "\n",
    "# Exhaustion\n",
    "print(\"Forest Model - Classifier, Exhaustion\")\n",
    "forest_model = RandomForestClassifier(n_estimators=100, random_state=0, max_depth=20)\n",
    "forest_model.fit(train_X, y_ex_train)\n",
    "print(\"Training score:\", forest_model.score(train_X, y_ex_train))\n",
    "print(\"Validation score:\", forest_model.score(val_X, y_ex_val))\n",
    "\n",
    "# Cynicism\n",
    "print(\"Forest Model - Classifier, Cynicism\")\n",
    "forest_model = RandomForestClassifier(n_estimators=100, random_state=0, max_depth=20)\n",
    "forest_model.fit(train_X, y_cy_train)\n",
    "print(\"Training score:\", forest_model.score(train_X, y_cy_train))\n",
    "print(\"Validation score:\", forest_model.score(val_X, y_cy_val))\n",
    "\n",
    "# Academic Efficacy\n",
    "print(\"Forest Model - Classifier, Academic Efficacy\")\n",
    "forest_model = RandomForestClassifier(n_estimators=100, random_state=0, max_depth=20)\n",
    "forest_model.fit(train_X, y_ea_train)\n",
    "print(\"Training score:\", forest_model.score(train_X, y_ea_train))\n",
    "print(\"Validation score:\", forest_model.score(val_X, y_ea_val))\n"
   ]
  },
  {
   "attachments": {},
   "cell_type": "markdown",
   "metadata": {},
   "source": [
    "##### Evaluating Random Forest"
   ]
  },
  {
   "cell_type": "code",
   "execution_count": null,
   "metadata": {},
   "outputs": [],
   "source": []
  },
  {
   "attachments": {},
   "cell_type": "markdown",
   "metadata": {},
   "source": [
    "## Fitting Neural Net\n",
    "##### Using Neural Net to predict burnout values"
   ]
  },
  {
   "cell_type": "code",
   "execution_count": null,
   "metadata": {},
   "outputs": [],
   "source": []
  },
  {
   "attachments": {},
   "cell_type": "markdown",
   "metadata": {},
   "source": [
    "#### Evaluating Neural Net"
   ]
  },
  {
   "cell_type": "code",
   "execution_count": null,
   "metadata": {},
   "outputs": [],
   "source": []
  },
  {
   "attachments": {},
   "cell_type": "markdown",
   "metadata": {},
   "source": [
    "## Evaluating Different Models\n",
    "##### Breaking down and comparing different model performance, performance table shown."
   ]
  },
  {
   "cell_type": "code",
   "execution_count": null,
   "metadata": {},
   "outputs": [],
   "source": []
  }
 ],
 "metadata": {
  "kernelspec": {
   "display_name": "ailearn",
   "language": "python",
   "name": "python3"
  },
  "language_info": {
   "codemirror_mode": {
    "name": "ipython",
    "version": 3
   },
   "file_extension": ".py",
   "mimetype": "text/x-python",
   "name": "python",
   "nbconvert_exporter": "python",
   "pygments_lexer": "ipython3",
   "version": "3.10.8"
  },
  "orig_nbformat": 4
 },
 "nbformat": 4,
 "nbformat_minor": 2
}
