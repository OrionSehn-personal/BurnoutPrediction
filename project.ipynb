{
 "cells": [
  {
   "cell_type": "code",
   "execution_count": 8,
   "id": "854faa94",
   "metadata": {},
   "outputs": [],
   "source": [
    "import pandas as pd\n",
    "import numpy as np\n",
    "from sklearn.linear_model import LinearRegression\n",
    "import matplotlib.pyplot as plt\n",
    "%matplotlib inline\n",
    "\n",
    "\n",
    "\n",
    "#read in data.csv\n",
    "df = pd.read_csv('data.csv')\n",
    "\n",
    "#get labels\n",
    "y = df['mbi_ex']\n",
    "\n",
    "#drop 'id', 'mbi_ex' columns\n",
    "df = df.drop(['id','mbi_ex'], axis=1)\n",
    "\n",
    "\n",
    "#set 'sex' to 0 or 1\n",
    "df['sex'] = df['sex'] - 1\n",
    "\n",
    "#set 'glang' to 0 if not already 1\n",
    "df['glang'] = np.where(df['glang'] > 1, 0, df['glang'])\n"
   ]
  },
  {
   "cell_type": "code",
   "execution_count": null,
   "id": "c1bd5584",
   "metadata": {},
   "outputs": [],
   "source": [
    "\n",
    "\n"
   ]
  },
  {
   "cell_type": "code",
   "execution_count": null,
   "id": "dd89fa3f",
   "metadata": {},
   "outputs": [],
   "source": []
  }
 ],
 "metadata": {
  "kernelspec": {
   "display_name": "Python 3 (ipykernel)",
   "language": "python",
   "name": "python3"
  },
  "language_info": {
   "codemirror_mode": {
    "name": "ipython",
    "version": 3
   },
   "file_extension": ".py",
   "mimetype": "text/x-python",
   "name": "python",
   "nbconvert_exporter": "python",
   "pygments_lexer": "ipython3",
   "version": "3.10.7"
  }
 },
 "nbformat": 4,
 "nbformat_minor": 5
}
